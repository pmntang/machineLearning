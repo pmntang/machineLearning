{
 "cells": [
  {
   "cell_type": "markdown",
   "metadata": {},
   "source": [
    "### Logistics Analysis\n",
    "\n",
    "In this exercise you will answer a set of questions as you work through a logistics problem. \n",
    "\n",
    "#### Preliminary Research\n",
    "\n",
    "<ul>\n",
    "<li>Start by reading the possible role of AI in last-mile delivery as seen by DHL: https://www.dhl.com/discover/en-global/logistics-advice/logistics-insights/ai-in-logistics-and-last-mile-delivery.</li>\n",
    "<li>See how other factors can also affect last-mile delivery, and be aware of possible collaborations here: https://d3.harvard.edu/platform-rctom/submission/where-is-my-package-dhls-machine-learning-works-to-provide-more-reliable-data-to-customers/.</li>\n",
    "\n",
    "<li>Further info can be found here: https://d3.harvard.edu/platform-rctom/submission/dhl-cracking-logistics-with-the-help-of-machine-learning/#_ftn2.</li>\n"
   ]
  },
  {
   "cell_type": "markdown",
   "metadata": {},
   "source": [
    "### Problem Definition\n",
    "\n",
    "1. What would you say is the goal of a logistics company? If you were to use a couple of metrics to define what success means for a logistics company (last-mile deliver), what would they be?"
   ]
  },
  {
   "cell_type": "markdown",
   "metadata": {},
   "source": [
    "2. Now take a moment to define the steps of last-mile deliveries. You can use any source you want or rely on your own experience as a customer. There are a lot of steps and you don't need to outline all of them. Just draft a general overview of the process, and what you consider important from your own experience or judgement."
   ]
  },
  {
   "cell_type": "markdown",
   "metadata": {},
   "source": [
    "3. Look at the steps you have considered. They all seem important but choose a specific context and decide which of those steps you think are key for the success of the process. Then think about the data that you could collect at those points, given the knowledge you have. What kind of data would you like to have in order to improve the performance and quality. "
   ]
  },
  {
   "cell_type": "markdown",
   "metadata": {},
   "source": [
    "4. The previous analysis would be done with the client, and in general, at least at the beginning, you might find that you need to work with what the client has. \n",
    "\n",
    "The following dataset is from Amazon. Imagine this is the data that you have to work with, so take some time to familiarize yourself with it, and decide how close or far the data is from what you would have ideally collected. \n",
    "\n",
    "https://www.kaggle.com/datasets/sujalsuthar/amazon-delivery-dataset\n",
    "\n",
    "At this point you want to define (not compulsory but useful) what kind of system you are looking at. Is it a simple system in which case the scope of data analysis and the application of machine learning might be limited? Or is it a complicated system where you would improve performance to a new level? Or is it a complex system and you expect to find new insights that can change the nature of the business? How would yo present this to the client?"
   ]
  },
  {
   "cell_type": "code",
   "execution_count": null,
   "metadata": {},
   "outputs": [],
   "source": [
    "import os\n",
    "import numpy as np\n",
    "import pandas as pd\n",
    "import seaborn as sns\n",
    "from matplotlib import pyplot as plt\n",
    "from statsmodels.stats.outliers_influence import variance_inflation_factor\n",
    "from sklearn.model_selection import cross_val_score\n",
    "from sklearn.model_selection import train_test_split\n",
    "from sklearn.linear_model import LinearRegression\n",
    "from sklearn.preprocessing import PolynomialFeatures\n",
    "#from sklearn.metrics import mean_squared_error, r2_score\n",
    "from sklearn import metrics\n",
    "from collections import Counter\n",
    "import plotly.express as px\n",
    "#warnings.filterwarnings(\"ignore\")\n",
    "pd.set_option(\"display.max_rows\",None)\n",
    "from sklearn import preprocessing\n",
    "import matplotlib \n",
    "matplotlib.style.use('ggplot')\n",
    "from sklearn.preprocessing import LabelEncoder"
   ]
  },
  {
   "cell_type": "code",
   "execution_count": null,
   "metadata": {},
   "outputs": [],
   "source": [
    "az = pd.read_csv('amazon_delivery.csv')"
   ]
  },
  {
   "cell_type": "code",
   "execution_count": null,
   "metadata": {},
   "outputs": [],
   "source": [
    "az.head()"
   ]
  },
  {
   "cell_type": "code",
   "execution_count": null,
   "metadata": {},
   "outputs": [],
   "source": [
    "az.dtypes"
   ]
  },
  {
   "cell_type": "code",
   "execution_count": null,
   "metadata": {},
   "outputs": [],
   "source": [
    "string_col = az.select_dtypes(include=\"object\").columns\n",
    "az[string_col]=az[string_col].astype(\"string\")"
   ]
  },
  {
   "cell_type": "code",
   "execution_count": null,
   "metadata": {},
   "outputs": [],
   "source": [
    "az.dtypes"
   ]
  },
  {
   "cell_type": "code",
   "execution_count": null,
   "metadata": {},
   "outputs": [],
   "source": [
    "string_col=az.select_dtypes(\"string\").columns.to_list()\n",
    "string_col"
   ]
  },
  {
   "cell_type": "code",
   "execution_count": null,
   "metadata": {},
   "outputs": [],
   "source": [
    "plt.figure(figsize = (10, 10))\n",
    "heatmap = sns.heatmap(az.corr(numeric_only = True), vmin = -1, vmax = 1, annot = True)\n",
    "heatmap.set_title('Amazon delivery Correlation Heatmap', fontdict = {'fontsize' : 18}, pad = 12)"
   ]
  },
  {
   "cell_type": "code",
   "execution_count": null,
   "metadata": {},
   "outputs": [],
   "source": [
    "\n",
    "    "
   ]
  },
  {
   "cell_type": "code",
   "execution_count": null,
   "metadata": {},
   "outputs": [],
   "source": []
  }
 ],
 "metadata": {
  "kernelspec": {
   "display_name": "Python 3 (ipykernel)",
   "language": "python",
   "name": "python3"
  },
  "language_info": {
   "codemirror_mode": {
    "name": "ipython",
    "version": 3
   },
   "file_extension": ".py",
   "mimetype": "text/x-python",
   "name": "python",
   "nbconvert_exporter": "python",
   "pygments_lexer": "ipython3",
   "version": "3.12.4"
  }
 },
 "nbformat": 4,
 "nbformat_minor": 4
}
